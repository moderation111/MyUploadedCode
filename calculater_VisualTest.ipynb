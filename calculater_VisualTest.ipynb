{
 "cells": [
  {
   "cell_type": "code",
   "execution_count": 1,
   "metadata": {},
   "outputs": [],
   "source": [
    "import tkinter as tk\n",
    "\n",
    "class Calculator(tk.Tk):\n",
    "    def __init__(self):\n",
    "        super().__init__()\n",
    "\n",
    "        self.title(\"Simple Calculator\")\n",
    "        self.geometry(\"300x200\")\n",
    "\n",
    "        self.result_var = tk.StringVar()\n",
    "\n",
    "        self.create_widgets()\n",
    "\n",
    "    def create_widgets(self):\n",
    "        # 创建一个 Entry 组件用于显示计算结果\n",
    "        result_entry = tk.Entry(self, textvariable=self.result_var, state=\"readonly\", width=20, font=(\"Arial\", 24), justify=\"right\")\n",
    "        result_entry.grid(row=0, column=0, columnspan=4)\n",
    "\n",
    "        # 创建按钮并指定相应的事件处理函数\n",
    "        buttons = [\n",
    "            ('7', 1, 0), ('8', 1, 1), ('9', 1, 2), ('/', 1, 3),\n",
    "            ('4', 2, 0), ('5', 2, 1), ('6', 2, 2), ('*', 2, 3),\n",
    "            ('1', 3, 0), ('2', 3, 1), ('3', 3, 2), ('-', 3, 3),\n",
    "            ('0', 4, 0), ('.', 4, 1), ('=', 4, 2), ('+', 4, 3),\n",
    "        ]\n",
    "\n",
    "        for (text, row, column) in buttons:\n",
    "            button = tk.Button(self, text=text, width=5, height=2, font=(\"Arial\", 18), command=lambda t=text: self.on_button_click(t))\n",
    "            button.grid(row=row, column=column)\n",
    "\n",
    "    def on_button_click(self, button_text):\n",
    "        if button_text.isdigit() or button_text == '.':\n",
    "            # 数字或小数点直接添加到结果字符串中\n",
    "            current_result = self.result_var.get()\n",
    "            current_result += button_text\n",
    "            self.result_var.set(current_result)\n",
    "        elif button_text in \"+-*/\":\n",
    "            # 如果是运算符，将其添加到结果字符串中，用空格分隔\n",
    "            current_result = self.result_var.get()\n",
    "            current_result += \" \" + button_text + \" \"\n",
    "            self.result_var.set(current_result)\n",
    "        elif button_text == \"=\":\n",
    "            # 计算结果\n",
    "            try:\n",
    "                current_result = self.result_var.get()\n",
    "                result = eval(current_result)\n",
    "                self.result_var.set(result)\n",
    "            except:\n",
    "                self.result_var.set(\"Error\")\n",
    "        else:\n",
    "            self.result_var.set(\"Error\")\n",
    "\n",
    "if __name__ == \"__main__\":\n",
    "    app = Calculator()\n",
    "    app.mainloop()\n"
   ]
  }
 ],
 "metadata": {
  "kernelspec": {
   "display_name": "base",
   "language": "python",
   "name": "python3"
  },
  "language_info": {
   "codemirror_mode": {
    "name": "ipython",
    "version": 3
   },
   "file_extension": ".py",
   "mimetype": "text/x-python",
   "name": "python",
   "nbconvert_exporter": "python",
   "pygments_lexer": "ipython3",
   "version": "3.9.7"
  },
  "orig_nbformat": 4
 },
 "nbformat": 4,
 "nbformat_minor": 2
}
